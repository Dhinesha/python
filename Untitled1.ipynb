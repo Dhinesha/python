{
  "nbformat": 4,
  "nbformat_minor": 0,
  "metadata": {
    "colab": {
      "provenance": [],
      "authorship_tag": "ABX9TyMsV6AdbaJUTQZHbERSsDDs",
      "include_colab_link": true
    },
    "kernelspec": {
      "name": "python3",
      "display_name": "Python 3"
    },
    "language_info": {
      "name": "python"
    }
  },
  "cells": [
    {
      "cell_type": "markdown",
      "metadata": {
        "id": "view-in-github",
        "colab_type": "text"
      },
      "source": [
        "<a href=\"https://colab.research.google.com/github/Dhinesha/python/blob/main/Untitled1.ipynb\" target=\"_parent\"><img src=\"https://colab.research.google.com/assets/colab-badge.svg\" alt=\"Open In Colab\"/></a>"
      ]
    },
    {
      "cell_type": "code",
      "execution_count": null,
      "metadata": {
        "id": "WJlv-FEHrvMu"
      },
      "outputs": [],
      "source": [
        "list1=[1,2,3,4,5,6,7,8,9,10]\n",
        "odd=[]\n",
        "odds=[]\n",
        "eve=[]\n",
        "even=[]\n",
        "for i in range(11):\n",
        "    if (i%2==0):\n",
        "        eve.append(i)\n",
        "        even.append(i*i)\n",
        "    else:\n",
        "        odd.append(i)\n",
        "        odds.append(i*i)\n",
        "print(\"The even numbers are:\",eve)\n",
        "print(\"The squares of the even numbers are:\",even)\n",
        "print(\"The odd numbers are:\",odd)\n",
        "print(\"The squares of the odd numbers are:\",odds)\n",
        "\n"
      ]
    },
    {
      "cell_type": "markdown",
      "source": [],
      "metadata": {
        "id": "d2nyPyvU16Ps"
      }
    },
    {
      "cell_type": "code",
      "source": [
        "list1=[2,4,8,7,34,24,9]\n",
        "a=len(list1)\n",
        "mini=list1[0]\n",
        "maxi=list1[0]\n",
        "for i in list1:\n",
        "  if (maxi< i):\n",
        "    maxi=i\n",
        "  if(mini>i):\n",
        "    mini=i\n",
        "print(\"The maximum value is:\",maxi)\n",
        "print(\"The minimum value is: \",mini)"
      ],
      "metadata": {
        "id": "Pb9WVaUnPWp-"
      },
      "execution_count": null,
      "outputs": []
    },
    {
      "cell_type": "code",
      "source": [
        "list1=[2,4,8,7,34,24,9]\n",
        "a=len(list1)\n",
        "mini=list1[0]\n",
        "maxi=list1[0]\n",
        "for i in list1:\n",
        "  if (maxi< i):\n",
        "    maxi=i\n",
        "  if(mini>i):\n",
        "    mini=i\n",
        "print(\"BEFORE REMOVAL:\",list1)\n",
        "print(\"The first maximum value is:\",maxi)\n",
        "print(\"The first minimum value is: \",mini)\n",
        "list1.remove(maxi)\n",
        "list1.remove(mini)\n",
        "print(\"AFTER REMOVAL\",list1)\n",
        "ma=list1[0]\n",
        "mi=list1[0]\n",
        "for j in list1:\n",
        "  if(ma < j):\n",
        "    ma=j\n",
        "  if(mi > j):\n",
        "    mi=j\n",
        "print(\"The second maximum value is:\",ma)\n",
        "print(\"The second minimum value is: \",mi)"
      ],
      "metadata": {
        "id": "rDsyCnXLPfR3"
      },
      "execution_count": null,
      "outputs": []
    },
    {
      "cell_type": "code",
      "source": [
        "a= [45,67,83,24,55,87,77,34]\n",
        " b=a.index(55)\n",
        " print(b)"
      ],
      "metadata": {
        "id": "_czR1tODPjPe"
      },
      "execution_count": null,
      "outputs": []
    },
    {
      "cell_type": "code",
      "source": [
        "def indian(rupee):\n",
        "  dollar=rupee*0.012\n",
        "  print(\"India (Rupee) to US (Dollar) conversion is:\",dollar)\n",
        "\n",
        "def celsius(c):\n",
        "  fahre=c*(9/5)+32\n",
        "  print(\"Celsius to Fahrenheit:\",fahre)\n",
        "def bami(weight,hei):\n",
        "  bmi=weight/(hei*hei)\n",
        "  print(\"BMI Calculation:\",bmi)\n",
        "def simple(p,r,t):\n",
        "  inter=(p*r*t)/100\n",
        "  print(\"Simple Interest Calculation:\",inter)\n",
        "\n",
        "rupee=int(input(\"Enter the rupees:\"))\n",
        "c=float(input(\"Enter celsius\"))\n",
        "weight=int(input(\"Enter weight\"))\n",
        "hei=int(input(\"Enter height\"))\n",
        "p=int(input(\"p\"))\n",
        "r=int(input(\"r\"))\n",
        "t=int(input(\"t\"))\n",
        "\n",
        "indian(rupee)\n",
        "celsius(c)\n",
        "bami(weight,hei)\n",
        "simple(p,r,t)\n"
      ],
      "metadata": {
        "id": "TqHEX-EwPnWS"
      },
      "execution_count": null,
      "outputs": []
    },
    {
      "cell_type": "code",
      "source": [
        "keys = ['Ten', 'Twenty', 'Thirty']\n",
        "values = [10, 20, 30]\n",
        "for i in range(1):\n",
        "  res={keys[0]:values[0],keys[1]:values[1],keys[2]:values[2]}\n",
        "  print(res)"
      ],
      "metadata": {
        "id": "N5hujr4DPsmx"
      },
      "execution_count": null,
      "outputs": []
    },
    {
      "cell_type": "code",
      "source": [
        "T=[4,5,6,4,6,7,4,2,4,8,7]\n",
        "max = 0\n",
        "R = T[0]\n",
        "for i in T:\n",
        "    fre = T.count(i)\n",
        "    if fre > max:\n",
        "        max = fre\n",
        "        R = i\n",
        "print(R)\n"
      ],
      "metadata": {
        "id": "OL28uHkYPxrr"
      },
      "execution_count": null,
      "outputs": []
    },
    {
      "cell_type": "code",
      "source": [
        "n = len(lst)\n",
        "for i in range(n):\n",
        "    for j in range(0, n-i-1):\n",
        "        if lst[j] > lst[j+1]:\n",
        "            lst[j], lst[j+1] = lst[j+1], lst[j]\n",
        "\n",
        "print(\"Ascending Order:\", lst)\n",
        "\n",
        "for i in range(n):\n",
        "    for j in range(0, n-i-1):\n",
        "        if lst[j] < lst[j+1]:\n",
        "            lst[j], lst[j+1] = lst[j+1], lst[j]\n",
        "\n",
        "print(\"Descending Order:\", lst)\n"
      ],
      "metadata": {
        "id": "DBJ8CtKZP3hQ"
      },
      "execution_count": null,
      "outputs": []
    },
    {
      "cell_type": "code",
      "source": [
        "import random\n",
        "\n",
        "class Voter:\n",
        "    def __init__(self, name):\n",
        "        self.name = name\n",
        "        self.vote = None\n",
        "\n",
        "class Candidate:\n",
        "    def __init__(self, name):\n",
        "        self.name = name\n",
        "        self.votes = 0\n",
        "\n",
        "voter_names = [\"Voter1\", \"Voter2\", \"Voter3\", \"Voter4\", \"Voter5\", \"Voter6\", \"Voter7\", \"Voter8\", \"Voter9\", \"Voter10\"]\n",
        "\n",
        "voters = [Voter(name) for name in voter_names]\n",
        "\n",
        "candidates = [Candidate(\"A\"), Candidate(\"B\"), Candidate(\"C\")]\n",
        "\n",
        "for voter in voters:\n",
        "    voter.vote = random.choice(candidates)\n",
        "\n",
        "for voter in voters:\n",
        "    voter.vote.votes += 1\n",
        "\n",
        "winner = max(candidates, key=lambda x: x.votes)\n",
        "runner = min(candidates, key=lambda x: x.votes)\n",
        "\n",
        "print(\"Winner:\", winner.name)\n",
        "print(\"Runner:\", runner.name)\n",
        "\n",
        "print(\"Voters who voted for the winner:\")\n",
        "for voter in voters:\n",
        "    if voter.vote == winner:\n",
        "        print(voter.name)\n",
        "\n",
        "print(\"Voters who voted for the runner:\")\n",
        "for voter in voters:\n",
        "    if voter.vote == runner:\n",
        "        print(voter.name)\n"
      ],
      "metadata": {
        "id": "eBSA8BIIP62F"
      },
      "execution_count": null,
      "outputs": []
    },
    {
      "cell_type": "code",
      "source": [
        "input_list = [0, 1, 0, 1, 1, 0, 1, 0, 1, 0]\n",
        "\n",
        "sorted_list = sorted(input_list)\n",
        "\n",
        "print(sorted_list)\n"
      ],
      "metadata": {
        "id": "969BSHIZQG6U"
      },
      "execution_count": null,
      "outputs": []
    },
    {
      "cell_type": "markdown",
      "source": [
        "1 Explicate function handling in Python language. Illustrate argument passing with example program.\n",
        "\n",
        "Function Handling in Python: In Python, functions are defined using the 'def' keyword, followed by the function name and parentheses containing any parameters the function requires. Functions can have default parameter values, which are assigned using the syntax 'parameter=value'. Functions can also 'return' values using the return keyword.\n",
        "\n",
        "\n",
        "2.Elucidate types of function with example for each category.\n",
        "\n",
        "Types of Functions in Python: In Python, functions can be categorized into several types based on their behavior and purpose. Some common types include:\n",
        "\n",
        "Built-in functions: These are functions that are built into Python, such as 'print()' and 'len()'.\n",
        "\n",
        "User-defined functions: These are functions defined by the user using the 'def' keyword.\n",
        "\n",
        "Recursive functions: These are functions that call themselves during their execution.\n",
        "\n",
        "Anonymous functions (lambda functions): These are small, unnamed functions defined using the \"lambda\" keyword.\n",
        "\n",
        "3.You're tasked with creating a program that analyzes a given text. The program should provide several functionalities such as counting the number of words, characters, and sentences, as well as calculating the average word length. Here are the main functionalities the program should support: ● Count words: Count the total number of words in the text.\n",
        "● Count characters: Count the total number of characters in the text (excluding spaces).\n",
        "● Count sentences: Count the total number of sentences in the text.\n",
        "● Calculate average word length: Calculate the average length of words in the text.\n",
        "\n",
        "\n",
        "     \n",
        "4 You are tasked with creating a simple calculator program that can perform basic arithmetic operations such as addition, subtraction.The program should allow the user to enter two numbers and choose an operation, then display the result.Here are the main functionalities the program should support:\n",
        "● Addition: Add two numbers.\n",
        "● Subtraction: Subtract the second number from the first number.\n",
        "\n",
        "\n",
        "5 Write a Python module performing conversion of integer into a string. [Separate digits of the given number]\n"
      ],
      "metadata": {
        "id": "c2suF7K317gK"
      }
    },
    {
      "cell_type": "code",
      "source": [
        "def greet(name):\n",
        "    return f\"Hello, {name}!\"\n",
        "\n",
        "print(greet(\"Alice\"))"
      ],
      "metadata": {
        "colab": {
          "base_uri": "https://localhost:8080/"
        },
        "id": "vwHLn7Ou2ByY",
        "outputId": "49110a0e-5088-4326-c684-b0292c4dc77e"
      },
      "execution_count": 1,
      "outputs": [
        {
          "output_type": "stream",
          "name": "stdout",
          "text": [
            "Hello, Alice!\n"
          ]
        }
      ]
    },
    {
      "cell_type": "code",
      "source": [
        "# Built-in function\n",
        "print(len(\"hello\"))\n",
        "\n",
        "# User-defined function\n",
        "def add(a, b):\n",
        "    return a + b\n",
        "\n",
        "print(add(3, 4))\n",
        "\n",
        "# Recursive function\n",
        "def factorial(n):\n",
        "    if n == 0:\n",
        "        return 1\n",
        "    else:\n",
        "        return n * factorial(n-1)\n",
        "\n",
        "print(factorial(5))\n",
        "\n",
        "# Lambda function\n",
        "double = lambda x: x * 2\n",
        "print(double(5))\n"
      ],
      "metadata": {
        "colab": {
          "base_uri": "https://localhost:8080/"
        },
        "id": "BJjS46mT2aH7",
        "outputId": "6c2ddb3c-ab62-46ab-82c2-79f814e716b6"
      },
      "execution_count": 2,
      "outputs": [
        {
          "output_type": "stream",
          "name": "stdout",
          "text": [
            "5\n",
            "7\n",
            "120\n",
            "10\n"
          ]
        }
      ]
    },
    {
      "cell_type": "code",
      "source": [
        "def count_words(text):\n",
        "    words = text.split()\n",
        "    return len(words)\n",
        "\n",
        "def count_characters(text):\n",
        "    return len(text.replace(\" \", \"\"))\n",
        "\n",
        "def count_sentences(text):\n",
        "    sentences = text.split('.')\n",
        "    return len(sentences)\n",
        "\n",
        "def average_word_length(text):\n",
        "    words = text.split()\n",
        "    total_length = sum(len(word) for word in words)\n",
        "    return total_length / len(words)\n",
        "\n",
        "def analyze_text(text):\n",
        "    word_count = count_words(text)\n",
        "    char_count = count_characters(text)\n",
        "    sentence_count = count_sentences(text)\n",
        "    avg_word_len = average_word_length(text)\n",
        "\n",
        "    print(f\"Total number of words: {word_count}\")\n",
        "    print(f\"Total number of characters (excluding spaces): {char_count}\")\n",
        "    print(f\"Total number of sentences: {sentence_count}\")\n",
        "    print(f\"Average word length: {avg_word_len:.2f}\")\n",
        "\n",
        "text = \"This is a sample text. It contains multiple sentences, and some of these sentences are longer than others.\"\n",
        "\n",
        "analyze_text(text)\n"
      ],
      "metadata": {
        "colab": {
          "base_uri": "https://localhost:8080/"
        },
        "id": "FW8SSkS62pc5",
        "outputId": "871550e7-d99a-41d3-d858-9e9a9cb6fb4b"
      },
      "execution_count": 4,
      "outputs": [
        {
          "output_type": "stream",
          "name": "stdout",
          "text": [
            "Total number of words: 18\n",
            "Total number of characters (excluding spaces): 89\n",
            "Total number of sentences: 3\n",
            "Average word length: 4.94\n"
          ]
        }
      ]
    },
    {
      "cell_type": "code",
      "source": [
        "def add(a, b):\n",
        "    return a + b\n",
        "\n",
        "def subtract(a, b):\n",
        "    return a - b\n",
        "\n",
        "def calculator():\n",
        "    print(\"Choose operation:\")\n",
        "    print(\"1. Addition\")\n",
        "    print(\"2. Subtraction\")\n",
        "\n",
        "    choice = input(\"Enter choice (1/2): \")\n",
        "\n",
        "    num1 = float(input(\"Enter first number: \"))\n",
        "    num2 = float(input(\"Enter second number: \"))\n",
        "\n",
        "    if choice == '1':\n",
        "        print(\"Result:\", add(num1, num2))\n",
        "    elif choice == '2':\n",
        "        print(\"Result:\", subtract(num1, num2))\n",
        "    else:\n",
        "        print(\"Invalid choice\")\n",
        "calculator()"
      ],
      "metadata": {
        "colab": {
          "base_uri": "https://localhost:8080/"
        },
        "id": "BWV35ze02_Ao",
        "outputId": "40c3aaf0-10f6-41a2-bf74-b04f02ee01bc"
      },
      "execution_count": 6,
      "outputs": [
        {
          "output_type": "stream",
          "name": "stdout",
          "text": [
            "Choose operation:\n",
            "1. Addition\n",
            "2. Subtraction\n",
            "Enter choice (1/2): 1\n",
            "Enter first number: 2\n",
            "Enter second number: 3\n",
            "Result: 5.0\n"
          ]
        }
      ]
    },
    {
      "cell_type": "code",
      "source": [
        "def convert_to_string(number):\n",
        "    return ' '.join(str(number))\n",
        "\n",
        "# Example usage\n",
        "number = 12345\n",
        "print(convert_to_string(number))\n"
      ],
      "metadata": {
        "colab": {
          "base_uri": "https://localhost:8080/"
        },
        "id": "qbACX4xM3Moq",
        "outputId": "837a305a-b5b7-4474-8d12-e6a70d931ce5"
      },
      "execution_count": 7,
      "outputs": [
        {
          "output_type": "stream",
          "name": "stdout",
          "text": [
            "1 2 3 4 5\n"
          ]
        }
      ]
    }
  ]
}