{
  "nbformat": 4,
  "nbformat_minor": 0,
  "metadata": {
    "colab": {
      "provenance": [],
      "authorship_tag": "ABX9TyMyK7bnn+pNyjejIj1xMJs1",
      "include_colab_link": true
    },
    "kernelspec": {
      "name": "python3",
      "display_name": "Python 3"
    },
    "language_info": {
      "name": "python"
    }
  },
  "cells": [
    {
      "cell_type": "markdown",
      "metadata": {
        "id": "view-in-github",
        "colab_type": "text"
      },
      "source": [
        "<a href=\"https://colab.research.google.com/github/Dhinesha/python/blob/main/Untitled1.ipynb\" target=\"_parent\"><img src=\"https://colab.research.google.com/assets/colab-badge.svg\" alt=\"Open In Colab\"/></a>"
      ]
    },
    {
      "cell_type": "code",
      "execution_count": null,
      "metadata": {
        "id": "WJlv-FEHrvMu"
      },
      "outputs": [],
      "source": [
        "list1=[1,2,3,4,5,6,7,8,9,10]\n",
        "odd=[]\n",
        "odds=[]\n",
        "eve=[]\n",
        "even=[]\n",
        "for i in range(11):\n",
        "    if (i%2==0):\n",
        "        eve.append(i)\n",
        "        even.append(i*i)\n",
        "    else:\n",
        "        odd.append(i)\n",
        "        odds.append(i*i)\n",
        "print(\"The even numbers are:\",eve)\n",
        "print(\"The squares of the even numbers are:\",even)\n",
        "print(\"The odd numbers are:\",odd)\n",
        "print(\"The squares of the odd numbers are:\",odds)\n",
        "\n"
      ]
    },
    {
      "cell_type": "code",
      "source": [
        "list1=[2,4,8,7,34,24,9]\n",
        "a=len(list1)\n",
        "mini=list1[0]\n",
        "maxi=list1[0]\n",
        "for i in list1:\n",
        "  if (maxi< i):\n",
        "    maxi=i\n",
        "  if(mini>i):\n",
        "    mini=i\n",
        "print(\"The maximum value is:\",maxi)\n",
        "print(\"The minimum value is: \",mini)"
      ],
      "metadata": {
        "id": "Pb9WVaUnPWp-"
      },
      "execution_count": null,
      "outputs": []
    },
    {
      "cell_type": "code",
      "source": [
        "list1=[2,4,8,7,34,24,9]\n",
        "a=len(list1)\n",
        "mini=list1[0]\n",
        "maxi=list1[0]\n",
        "for i in list1:\n",
        "  if (maxi< i):\n",
        "    maxi=i\n",
        "  if(mini>i):\n",
        "    mini=i\n",
        "print(\"BEFORE REMOVAL:\",list1)\n",
        "print(\"The first maximum value is:\",maxi)\n",
        "print(\"The first minimum value is: \",mini)\n",
        "list1.remove(maxi)\n",
        "list1.remove(mini)\n",
        "print(\"AFTER REMOVAL\",list1)\n",
        "ma=list1[0]\n",
        "mi=list1[0]\n",
        "for j in list1:\n",
        "  if(ma < j):\n",
        "    ma=j\n",
        "  if(mi > j):\n",
        "    mi=j\n",
        "print(\"The second maximum value is:\",ma)\n",
        "print(\"The second minimum value is: \",mi)"
      ],
      "metadata": {
        "id": "rDsyCnXLPfR3"
      },
      "execution_count": null,
      "outputs": []
    },
    {
      "cell_type": "code",
      "source": [
        "a= [45,67,83,24,55,87,77,34]\n",
        " b=a.index(55)\n",
        " print(b)"
      ],
      "metadata": {
        "id": "_czR1tODPjPe"
      },
      "execution_count": null,
      "outputs": []
    },
    {
      "cell_type": "code",
      "source": [
        "def indian(rupee):\n",
        "  dollar=rupee*0.012\n",
        "  print(\"India (Rupee) to US (Dollar) conversion is:\",dollar)\n",
        "\n",
        "def celsius(c):\n",
        "  fahre=c*(9/5)+32\n",
        "  print(\"Celsius to Fahrenheit:\",fahre)\n",
        "def bami(weight,hei):\n",
        "  bmi=weight/(hei*hei)\n",
        "  print(\"BMI Calculation:\",bmi)\n",
        "def simple(p,r,t):\n",
        "  inter=(p*r*t)/100\n",
        "  print(\"Simple Interest Calculation:\",inter)\n",
        "\n",
        "rupee=int(input(\"Enter the rupees:\"))\n",
        "c=float(input(\"Enter celsius\"))\n",
        "weight=int(input(\"Enter weight\"))\n",
        "hei=int(input(\"Enter height\"))\n",
        "p=int(input(\"p\"))\n",
        "r=int(input(\"r\"))\n",
        "t=int(input(\"t\"))\n",
        "\n",
        "indian(rupee)\n",
        "celsius(c)\n",
        "bami(weight,hei)\n",
        "simple(p,r,t)\n"
      ],
      "metadata": {
        "id": "TqHEX-EwPnWS"
      },
      "execution_count": null,
      "outputs": []
    },
    {
      "cell_type": "code",
      "source": [
        "keys = ['Ten', 'Twenty', 'Thirty']\n",
        "values = [10, 20, 30]\n",
        "for i in range(1):\n",
        "  res={keys[0]:values[0],keys[1]:values[1],keys[2]:values[2]}\n",
        "  print(res)"
      ],
      "metadata": {
        "id": "N5hujr4DPsmx"
      },
      "execution_count": null,
      "outputs": []
    },
    {
      "cell_type": "code",
      "source": [
        "T=[4,5,6,4,6,7,4,2,4,8,7]\n",
        "max = 0\n",
        "R = T[0]\n",
        "for i in T:\n",
        "    fre = T.count(i)\n",
        "    if fre > max:\n",
        "        max = fre\n",
        "        R = i\n",
        "print(R)\n"
      ],
      "metadata": {
        "id": "OL28uHkYPxrr"
      },
      "execution_count": null,
      "outputs": []
    },
    {
      "cell_type": "code",
      "source": [
        "n = len(lst)\n",
        "for i in range(n):\n",
        "    for j in range(0, n-i-1):\n",
        "        if lst[j] > lst[j+1]:\n",
        "            lst[j], lst[j+1] = lst[j+1], lst[j]\n",
        "\n",
        "print(\"Ascending Order:\", lst)\n",
        "\n",
        "for i in range(n):\n",
        "    for j in range(0, n-i-1):\n",
        "        if lst[j] < lst[j+1]:\n",
        "            lst[j], lst[j+1] = lst[j+1], lst[j]\n",
        "\n",
        "print(\"Descending Order:\", lst)\n"
      ],
      "metadata": {
        "id": "DBJ8CtKZP3hQ"
      },
      "execution_count": null,
      "outputs": []
    },
    {
      "cell_type": "code",
      "source": [
        "import random\n",
        "\n",
        "class Voter:\n",
        "    def __init__(self, name):\n",
        "        self.name = name\n",
        "        self.vote = None\n",
        "\n",
        "class Candidate:\n",
        "    def __init__(self, name):\n",
        "        self.name = name\n",
        "        self.votes = 0\n",
        "\n",
        "voter_names = [\"Voter1\", \"Voter2\", \"Voter3\", \"Voter4\", \"Voter5\", \"Voter6\", \"Voter7\", \"Voter8\", \"Voter9\", \"Voter10\"]\n",
        "\n",
        "voters = [Voter(name) for name in voter_names]\n",
        "\n",
        "candidates = [Candidate(\"A\"), Candidate(\"B\"), Candidate(\"C\")]\n",
        "\n",
        "for voter in voters:\n",
        "    voter.vote = random.choice(candidates)\n",
        "\n",
        "for voter in voters:\n",
        "    voter.vote.votes += 1\n",
        "\n",
        "winner = max(candidates, key=lambda x: x.votes)\n",
        "runner = min(candidates, key=lambda x: x.votes)\n",
        "\n",
        "print(\"Winner:\", winner.name)\n",
        "print(\"Runner:\", runner.name)\n",
        "\n",
        "print(\"Voters who voted for the winner:\")\n",
        "for voter in voters:\n",
        "    if voter.vote == winner:\n",
        "        print(voter.name)\n",
        "\n",
        "print(\"Voters who voted for the runner:\")\n",
        "for voter in voters:\n",
        "    if voter.vote == runner:\n",
        "        print(voter.name)\n"
      ],
      "metadata": {
        "id": "eBSA8BIIP62F"
      },
      "execution_count": null,
      "outputs": []
    },
    {
      "cell_type": "code",
      "source": [
        "input_list = [0, 1, 0, 1, 1, 0, 1, 0, 1, 0]\n",
        "\n",
        "sorted_list = sorted(input_list)\n",
        "\n",
        "print(sorted_list)\n"
      ],
      "metadata": {
        "id": "969BSHIZQG6U"
      },
      "execution_count": null,
      "outputs": []
    }
  ]
}